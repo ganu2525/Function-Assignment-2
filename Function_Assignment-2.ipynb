{
  "nbformat": 4,
  "nbformat_minor": 0,
  "metadata": {
    "colab": {
      "provenance": []
    },
    "kernelspec": {
      "name": "python3",
      "display_name": "Python 3"
    },
    "language_info": {
      "name": "python"
    }
  },
  "cells": [
    {
      "cell_type": "markdown",
      "source": [
        "# Function"
      ],
      "metadata": {
        "id": "AB0VVYkiIX_r"
      }
    },
    {
      "cell_type": "markdown",
      "source": [
        "# Que01)  What are data structures, and why are they important?\n",
        "\n",
        "===> data structure is  the way of organizing and shorting data so that it can be accessed and manipulated effeciently\n",
        "ex.[List ,string,set,tuple,dictionery,array.]"
      ],
      "metadata": {
        "id": "mslaYckYtOn1"
      }
    },
    {
      "cell_type": "markdown",
      "source": [
        "# Que 02)Explain the difference between mutable and immutable data types with examples.\n",
        "\n",
        "===> **Mutable Data Types:**\n",
        "\n",
        "Definition: These are data types whose values can be changed after they are created. You can modify, add, or remove elements from them.\n",
        "Examples:\n",
        "Lists: Ordered collections of items.\n",
        "\n",
        "**Immutable Data Types:**\n",
        "Definition: These are data types whose values cannot be changed after they are created. If you try to modify an immutable object, you will actually create a new object with the modified value.\n",
        "Examples:\n",
        "Strings: Sequences of characters."
      ],
      "metadata": {
        "id": "C8xE5guotWH5"
      }
    },
    {
      "cell_type": "markdown",
      "source": [
        "# Que 03)  What are the main differences between lists and tuples in Python?\n",
        "\n",
        "===>** Lists are mutable:** You can change, add, or remove elements after a list is created.\n",
        "\n",
        "**Tuples are immutable:** You cannot change, add, or remove elements after a tuple is created."
      ],
      "metadata": {
        "id": "i8vVkLXStyAJ"
      }
    },
    {
      "cell_type": "markdown",
      "source": [
        "# Que 4) Describe how dictionaries store data.\n",
        "\n",
        "===>\n",
        "**Key-Value Pairs:**\n",
        " The fundamental unit of a dictionary is a pair consisting of a unique key and its associated value.\n",
        "\n",
        " 1) **Values:** Values can be of any data type, including mutable types like lists and other dictionaries.\n",
        " 2)**Unordered:**The order in which you inserted items was not guaranteed to be the\n",
        " 3)**Ordered:**the order of items in a dictionary is the order in which they were inserted.\n",
        " 4)**Hashing:**Dictionaries use a hash table internally. When you add a key-value pair, Python calculates a hash value for the key."
      ],
      "metadata": {
        "id": "UaXaRHnlt0i5"
      }
    },
    {
      "cell_type": "markdown",
      "source": [
        "# Que 05) Why might you use a set instead of a list in Python?\n",
        "\n",
        "===> Here are the key reasons:\n",
        "\n",
        "1) A set automatically removes duplicates,A set automatically removes duplicates.\n",
        "2)Faster membership testing (in operator),\n",
        "Checking if something is in a set is much faster (O(1) average) compared to a list (O(n) average).\n",
        "3) Efficient set operations,You can easily do unions, intersections, and differences.\n",
        "4)Order doesn’t matter,. If you don’t need to preserve element order, sets are great.\n",
        "\n",
        "\n",
        "\n"
      ],
      "metadata": {
        "id": "N-i3dO1Pt5ZX"
      }
    },
    {
      "cell_type": "markdown",
      "source": [
        "# Que 6)  What is a string in Python, and how is it different from a list?\n",
        "\n",
        "===>   string is the sequence of characters present and manipulate textual data.\n",
        "it used to share textual data, such as word,sentences or even numbers as characters.\n",
        "\n",
        "Main differences between a String and a List\n",
        "\n",
        "string:                                              List\n",
        "1)data type Holds only characters (text)  1)Can hold elements of any data type\n",
        "2)cannot change characters directly       2)can change elements directly\n",
        "3) it is a immutable.                     3) it is a mutable.\n",
        "4)Enclosed in quotes (\")                  4)Enclosed in square brackets []\n",
        "5)ex \"Hello\"\t                            5)ex [1, 2, 3] or [\"a\", \"b\", \"c\"]\n",
        "\n"
      ],
      "metadata": {
        "id": "6uK_r8pnt_lH"
      }
    },
    {
      "cell_type": "markdown",
      "source": [
        "# Que 7  How do tuples ensure data integrity in Python?\n",
        "\n",
        "===>\n",
        "1)No accidental modification:\n",
        " You can’t change tuple elements after creation, so your data remains exactly as it was originally set.\n",
        "2)Safe to use as fixed configuration:\n",
        "Since data can’t change, tuples are ideal for storing constants or read-only settings.\n",
        "3)Can be used as dictionary keys:\n",
        "Immutability means tuples can be hashed, making them reliable as keys in dictionaries or elements in sets.\n",
        "4)Thread safety:\n",
        "In multi-threaded programs, tuples are safer because no thread can change their contents, reducing data corruption risks."
      ],
      "metadata": {
        "id": "XPg8HeD5uG79"
      }
    },
    {
      "cell_type": "markdown",
      "source": [
        "#Que 8) What is a hash table, and how does it relate to dictionaries in Python?\n",
        "\n",
        "===>  A hash table is a data structure that stores key–value pairs and uses a hash function to quickly find the location of a value based on its key.\n",
        "\n",
        " Relation to Python Dictionaries\n",
        "\n",
        "In Python:\n",
        "1)dict is implemented using a hash table internally.\n",
        "2)Keys must be hashable (immutable types like strings, numbers, tuples of immutables).\n",
        "3)Operations like insertion, deletion, and lookup are very fast on average because of hashing.\n"
      ],
      "metadata": {
        "id": "wxJV7LjxuIB7"
      }
    },
    {
      "cell_type": "markdown",
      "source": [
        "# Que 9) Can lists contain different data types in Python?\n",
        "\n",
        "===>\n",
        "Yes — In Python 3, lists can contain elements of different data types.\n",
        "\n",
        "This is because Python lists are dynamic arrays that can store references to any kind of object, and the elements do not have to be the same type."
      ],
      "metadata": {
        "id": "rA4QyVGxuNEo"
      }
    },
    {
      "cell_type": "markdown",
      "source": [
        "# Que 10) Explain why strings are immutable in Python?\n",
        "\n",
        "===>\n",
        "Strings in Python are immutable, meaning once you create a string, you cannot change its contents in place — any modification creates a new string object in memory.\n",
        "\n",
        "Reasons why strings are immutable in Python\n",
        "\n",
        "1)Hashing and Dictionary Keys:-\n",
        "Immutable objects can have a fixed hash value, which allows strings to be used as dictionary keys and set elements safely.\n",
        "If strings were mutable, their hash could change, breaking dictionary lookups.\n",
        "\n",
        "2)Memory efficiency & performance:-\n",
        "Python can reuse the same string object in memory for identical strings (string interning), saving space and speeding up access.\n",
        "\n",
        "3)Thread safety:-\n",
        "In multi-threaded programs, immutable strings ensure no thread can accidentally modify a string while another is reading it.\n",
        "\n",
        "4)Historical & design choice:-\n",
        "Many languages (like Java) also make strings immutable for safety, simplicity, and predictability."
      ],
      "metadata": {
        "id": "pFYS2w8ZuRpv"
      }
    },
    {
      "cell_type": "markdown",
      "source": [
        "# que 11)What advantages do dictionaries offer over lists for certain task?\n",
        "\n",
        "===>Advantages of Dictionaries over Lists:\n",
        "\n",
        "1)Fast lookups by key (O(1) average)\n",
        ">In a list, searching for a value requires scanning each element (O(n) time).\n",
        ">In a dictionary, Python uses a hash table, so finding a value by its key is extremely fast.\n",
        "\n",
        "2)Meaningful keys instead of indexes\n",
        ">In a list, you must remember the position (index).\n",
        ">In a dictionary, you access data using descriptive keys\n",
        "\n",
        "3)Better for sparse data\n",
        ">If you have widely spaced indexes, dictionaries waste less memory than lists.\n",
        "\n",
        "4)Flexible structure\n",
        ">Each value in a dictionary can be of any type (list, dict, tuple, etc.), and you can mix types freely.\n",
        "\n",
        "5)Dynamic updates\n",
        ">Adding or removing key–value pairs is easy and efficient.\n",
        "\n"
      ],
      "metadata": {
        "id": "XF-k509VuTb2"
      }
    },
    {
      "cell_type": "markdown",
      "source": [
        "# que 12)Describe a scenario where using a tuple would be preferable over a list.\n",
        "\n",
        "\n",
        "===> Scenario:\n",
        "You’re writing a program to store the GPS coordinates of a landmark — for example, the Taj Mahal.\n",
        "The coordinates are:\n",
        "\n",
        "python\n",
        "taj_mahal_coordinates = (27.1751, 78.0421)\n",
        "\n",
        "Why a tuple is preferable over a list here:\n",
        "\n",
        "1)Data should not change:\n",
        "GPS coordinates of a fixed landmark never change, so you don’t want the data to be accidentally modified.\n",
        "Tuples are immutable, meaning once created, their values cannot be altered.\n",
        "\n",
        "2)Tuples signal “fixed structure”:\n",
        "Anyone reading your code will understand that (latitude, longitude) is a constant, not something to append or delete from.\n",
        "\n",
        "3)Faster and memory efficient:\n",
        "Tuples have a smaller memory footprint and can be slightly faster than lists, which is useful for many small, unchanging datasets.\n",
        "\n",
        "4)Can be used as dictionary keys:\n",
        "If you want to map coordinates to location names, tuples can serve as dictionary keys (lists cannot because they’re mutable)."
      ],
      "metadata": {
        "id": "Ovay_3U2uX3q"
      }
    },
    {
      "cell_type": "markdown",
      "source": [
        "# que 13) How do sets handle duplicate values in Python?\n",
        "\n",
        "===>\n",
        "In Python, a set automatically removes duplicate values.\n",
        "If you try to add a value that’s already in the set, it will not store it again.\n",
        "\n",
        "Example:\n",
        "\n",
        "my_set = {1, 2, 3, 2, 1}\n",
        "print(my_set)\n",
        "Output:{1, 2, 3}\n",
        "( Here, 1 and 2 were entered twice, but the set kept them only once.)"
      ],
      "metadata": {
        "id": "CF8Yy17-Fc1p"
      }
    },
    {
      "cell_type": "markdown",
      "source": [
        "#que 14) How does the “in” keyword work differently for lists and dictionaries?\n",
        "\n",
        "\n",
        "===>\n",
        " In a List\n",
        "-in checks if a value is present anywhere in the list.\n",
        "-It searches through all elements until it finds a match\n",
        "-checks if an item is in the list.\n",
        "In a Dictionary\n",
        "-in only checks keys, not value\n",
        "-checks if a key is in the dictionary"
      ],
      "metadata": {
        "id": "lh9DXX5vGsAQ"
      }
    },
    {
      "cell_type": "markdown",
      "source": [
        "# que 15)Can you modify the elements of a tuple? Explain why or why\n",
        "\n",
        "\n",
        "===> No\n",
        " — you cannot modify the elements of a tuple in Python.\n",
        "\n",
        "Reason\n",
        "Tuples are immutable, meaning their contents cannot be changed after creation.\n",
        "Once you create a tuple, you cannot change an element's value,remove element's\n",
        "add element's.\n",
        "\n",
        "this immutability is built into Python for data integrity,performance,hashability"
      ],
      "metadata": {
        "id": "d2imL-y6WFpm"
      }
    },
    {
      "cell_type": "markdown",
      "source": [
        "# que 16) What is a nested dictionary, and give an example of its use case\n",
        "\n",
        "===> Definition\n",
        "A nested dictionary is used when you need multiple levels of key–value pairs.\n",
        "Each key in the outer dictionary can have another dictionary as its value.\n",
        "\n",
        "Use Cases\n",
        "Storing hierarchical data (e.g., country → state → city)\n",
        "Student database (student name → subject → marks)\n",
        "Configuration files (settings grouped by categories)\n",
        "Inventory systems (category → product → details)."
      ],
      "metadata": {
        "id": "0Z4Q3gCew5ql"
      }
    },
    {
      "cell_type": "markdown",
      "source": [
        "# que 17) Describe the time complexity of accessing elements in a dictionary\n",
        "\n",
        "\n",
        "===> in Python, dictionaries are implemented using hash tables, so the average time complexity of accessing an element is:\n",
        "\n",
        "Time Complexity\n",
        "Average case: O(1) → Constant time\n",
        "Because Python uses the key’s hash value to directly find the memory location of the value.\n",
        "Worst case: O(n) → Linear time\n",
        "This happens rarely, only if hash collisions occur and many keys end up in the same bucket, requiring a sequential search.\n",
        "In practical use, dictionary lookups in Python are extremely fast and close to O(1), which is why they’re often preferred over lists for key-based searches\n"
      ],
      "metadata": {
        "id": "Jltzhc8OjPRG"
      }
    },
    {
      "cell_type": "markdown",
      "source": [
        "# que 18)In what situations are lists preferred over dictionaries?\n",
        "\n",
        "===> Lists are preferred over dictionaries in situations where:\n",
        "Index-Based Access,Order Matters,Data Without Unique Key,Sequential Processing,Small Datasets or Simpler Structures,Quick Rule.\n",
        "\n"
      ],
      "metadata": {
        "id": "E09a7gnlkw10"
      }
    },
    {
      "cell_type": "markdown",
      "source": [
        "# que 19) Why are dictionaries considered unordered, and how does that affect data retrieval?\n",
        "\n",
        "\n",
        "===> Python dictionaries were considered unordered because they were implemented as hash tables that stored key–value pairs without guaranteeing the order of insertion.\n",
        "\n",
        "How It Affects Data Retrieval\n",
        "\n",
        "No Index-Based Access;\n",
        "You can’t do my_dict[0] to get the first element, unlike lists.\n",
        "Iteration Order:\n",
        "Iterating over a dictionary could produce keys in a seemingly random order.\n",
        "Current Situation:\n",
        "Dictionaries do maintain insertion order as an implementation detail,\n",
        "However, they’re still conceptually unordered — you should not depend on index positions for meaning; instead, you should always retrieve by key."
      ],
      "metadata": {
        "id": "QC3NXj22lqwC"
      }
    },
    {
      "cell_type": "markdown",
      "source": [
        "# que 20) Explain the difference between a list and a dictionary in terms of data retrieval.\n",
        "\n",
        "===>\n",
        "List:\n",
        "1)Elements are retrieved using an index (position number).\n",
        "2)O(1) for direct index access.\n",
        "3)List Use when data is ordered, and you care about position.\n",
        "Dictionary:\n",
        "1)Elements are retrieved using a key (name or label)\n",
        "2)O(1) average case for key lookup (hash table-based).\n",
        "3)Dictionary: Use whendata is key–value paired, and you care about fast lookups by key.\n"
      ],
      "metadata": {
        "id": "gOaMk18CnreJ"
      }
    },
    {
      "cell_type": "code",
      "source": [
        "#                         Practical Questions\n"
      ],
      "metadata": {
        "id": "quYBOHamWGHa"
      },
      "execution_count": null,
      "outputs": []
    },
    {
      "cell_type": "code",
      "source": [
        "#Que 1) Write a code to create a string with your name and print.\n",
        "\n",
        "my_name=\"Ganesh\"\n",
        "print(my_name)"
      ],
      "metadata": {
        "colab": {
          "base_uri": "https://localhost:8080/"
        },
        "id": "dgoEMRU8Wjbl",
        "outputId": "ff610f54-63fa-48af-caa6-455b13089906"
      },
      "execution_count": null,
      "outputs": [
        {
          "output_type": "stream",
          "name": "stdout",
          "text": [
            "Ganesh\n"
          ]
        }
      ]
    },
    {
      "cell_type": "code",
      "source": [
        "# Que 2) Write a code to find the length of the string \"Hello World\"\n",
        "a=\"Hello World\"\n",
        "print(len(a))\n"
      ],
      "metadata": {
        "colab": {
          "base_uri": "https://localhost:8080/"
        },
        "id": "jfZriej1XCNT",
        "outputId": "0179a6e9-8106-48b0-fb2d-66fc7f31f09d"
      },
      "execution_count": null,
      "outputs": [
        {
          "output_type": "stream",
          "name": "stdout",
          "text": [
            "11\n"
          ]
        }
      ]
    },
    {
      "cell_type": "code",
      "source": [
        "# Que 3) Write a code to slice the first 3 characters from the string \"Python Programming.\n",
        "B =\"python programing\"\n",
        "print(B[0:3])\n"
      ],
      "metadata": {
        "colab": {
          "base_uri": "https://localhost:8080/"
        },
        "id": "eKD7suZVXxQ1",
        "outputId": "4a8f304c-f37c-4e90-95da-1b4c0a2ca593"
      },
      "execution_count": null,
      "outputs": [
        {
          "output_type": "stream",
          "name": "stdout",
          "text": [
            "pyt\n"
          ]
        }
      ]
    },
    {
      "cell_type": "code",
      "source": [
        "# Que 4) Write a code to convert the string \"hello\" to uppercase.\n",
        "A=\"hello\"\n",
        "print(A.upper())"
      ],
      "metadata": {
        "colab": {
          "base_uri": "https://localhost:8080/"
        },
        "id": "KNVEF61aYu0W",
        "outputId": "7d54ba62-3ba6-4571-9cf6-7421fb70ab24"
      },
      "execution_count": null,
      "outputs": [
        {
          "output_type": "stream",
          "name": "stdout",
          "text": [
            "HELLO\n"
          ]
        }
      ]
    },
    {
      "cell_type": "code",
      "source": [
        "# Que 5)  Write a code to replace the word \"apple\" with \"orange\" in the string \"I like apple.\n",
        "\n",
        "string = \"i like Apple\"\n",
        "new_add = string.replace(\"apple\",\"orange\")\n",
        "print(new_add)\n"
      ],
      "metadata": {
        "colab": {
          "base_uri": "https://localhost:8080/"
        },
        "id": "5WCpzUr0Z9lT",
        "outputId": "d6ba8234-77c9-47c9-91de-6eadd00e8c01"
      },
      "execution_count": null,
      "outputs": [
        {
          "output_type": "stream",
          "name": "stdout",
          "text": [
            "i like Apple\n"
          ]
        }
      ]
    },
    {
      "cell_type": "code",
      "source": [
        "text=\"i like apple\"\n",
        "new_text=text.replace(\"apple\",\"orange\")\n",
        "print(new_text)"
      ],
      "metadata": {
        "colab": {
          "base_uri": "https://localhost:8080/"
        },
        "id": "8eJS8h1OdZpK",
        "outputId": "b260af8b-96a9-4149-d080-28bcf787bb9d"
      },
      "execution_count": null,
      "outputs": [
        {
          "output_type": "stream",
          "name": "stdout",
          "text": [
            "i like orange\n"
          ]
        }
      ]
    },
    {
      "cell_type": "code",
      "source": [
        "text = \"I like apple\"\n",
        "new_text = text.replace(\"apple\", \"orange\")\n",
        "print(new_text)"
      ],
      "metadata": {
        "colab": {
          "base_uri": "https://localhost:8080/"
        },
        "id": "xUoKVVEidCJc",
        "outputId": "9ee81551-3e5e-4d70-fdb4-285d7bb4aabf"
      },
      "execution_count": null,
      "outputs": [
        {
          "output_type": "stream",
          "name": "stdout",
          "text": [
            "I like orange\n"
          ]
        }
      ]
    },
    {
      "cell_type": "code",
      "source": [
        "# que 6)  Write a code to create a list with numbers 1 to 5 and print it.\n",
        "\n",
        "my_list =[1,2,3,4,5]\n",
        "print(my_list)"
      ],
      "metadata": {
        "colab": {
          "base_uri": "https://localhost:8080/"
        },
        "id": "BkZIq69PjQpR",
        "outputId": "66e1e5a1-c922-43e3-fc90-97cbed114458"
      },
      "execution_count": null,
      "outputs": [
        {
          "output_type": "stream",
          "name": "stdout",
          "text": [
            "[1, 2, 3, 4, 5]\n"
          ]
        }
      ]
    },
    {
      "cell_type": "code",
      "source": [
        "# que 7) Write a code to append the number 10 to the list [1, 2, 3, 4]\n",
        "\n",
        "my_list=[1,2,3,4]\n",
        "my_list.append(10)\n",
        "print(my_list)\n"
      ],
      "metadata": {
        "colab": {
          "base_uri": "https://localhost:8080/"
        },
        "id": "pnry8P4ejuFE",
        "outputId": "e07ad0d6-6a15-442c-b9b0-a746eef6ed12"
      },
      "execution_count": null,
      "outputs": [
        {
          "output_type": "stream",
          "name": "stdout",
          "text": [
            "[1, 2, 3, 4, 10]\n"
          ]
        }
      ]
    },
    {
      "cell_type": "code",
      "source": [
        "# que 8) Write a code to remove the number 3 from the list [1, 2, 3, 4, 5]\n",
        "list=[1,2,3,4,5]\n",
        "list.remove(3)\n",
        "print(list)"
      ],
      "metadata": {
        "colab": {
          "base_uri": "https://localhost:8080/"
        },
        "id": "39QpdZd_lN8V",
        "outputId": "172ee82c-bf17-44d8-9a08-914190afbeff"
      },
      "execution_count": null,
      "outputs": [
        {
          "output_type": "stream",
          "name": "stdout",
          "text": [
            "[1, 2, 4, 5]\n"
          ]
        }
      ]
    },
    {
      "cell_type": "code",
      "source": [
        "# que 9) Write a code to access the second element in the list ['a', 'b', 'c', 'd']\n",
        "list=['a','b','c','d']\n",
        "print(list[1])"
      ],
      "metadata": {
        "colab": {
          "base_uri": "https://localhost:8080/"
        },
        "id": "qdTivt-XmZyz",
        "outputId": "9d21a2d7-9d25-4f80-fe4c-0e7bf2d7afbf"
      },
      "execution_count": null,
      "outputs": [
        {
          "output_type": "stream",
          "name": "stdout",
          "text": [
            "b\n"
          ]
        }
      ]
    },
    {
      "cell_type": "code",
      "source": [
        "# que 10) Write a code to reverse the list [10, 20, 30, 40, 50].\n",
        "list=[10, 20, 30, 40, 50]\n",
        "list.reverse()\n",
        "print(list)"
      ],
      "metadata": {
        "colab": {
          "base_uri": "https://localhost:8080/"
        },
        "id": "qfIGfuDSnnWX",
        "outputId": "f10f8c9b-778f-4bf2-d8cb-2aeb6837355f"
      },
      "execution_count": null,
      "outputs": [
        {
          "output_type": "stream",
          "name": "stdout",
          "text": [
            "[50, 40, 30, 20, 10]\n"
          ]
        }
      ]
    },
    {
      "cell_type": "code",
      "source": [
        "# que 11) . Write a code to create a tuple with the elements 100, 200, 300 and print it\n",
        "tuple=(100,200,300)\n",
        "print(tuple)"
      ],
      "metadata": {
        "colab": {
          "base_uri": "https://localhost:8080/"
        },
        "id": "bqnygYV3oefc",
        "outputId": "17109fb8-36e6-4995-bc8e-b35d15115af5"
      },
      "execution_count": null,
      "outputs": [
        {
          "output_type": "stream",
          "name": "stdout",
          "text": [
            "(100, 200, 300)\n"
          ]
        }
      ]
    },
    {
      "cell_type": "code",
      "source": [
        "# que 12) Write a code to access the second-to-last element of the tuple ('red', 'green', 'blue', 'yellow')\n",
        "tuple =('red', 'green', 'blue', 'yellow')\n",
        "print(tuple[-2])\n"
      ],
      "metadata": {
        "colab": {
          "base_uri": "https://localhost:8080/"
        },
        "id": "mOQ_bRHgpKdo",
        "outputId": "c62be8b1-3020-43dc-bda5-c8acfc74397b"
      },
      "execution_count": null,
      "outputs": [
        {
          "output_type": "stream",
          "name": "stdout",
          "text": [
            "blue\n"
          ]
        }
      ]
    },
    {
      "cell_type": "code",
      "source": [
        "# que 13)  Write a code to find the minimum number in the tuple (10, 20, 5, 15).\n",
        "tuple=(10, 20, 5, 15)\n",
        "print(min(tuple))\n",
        "print(len(tuple))"
      ],
      "metadata": {
        "colab": {
          "base_uri": "https://localhost:8080/"
        },
        "id": "bWTKfDMfu34y",
        "outputId": "8e097dc6-3c65-4436-da74-144efb30d8ca"
      },
      "execution_count": null,
      "outputs": [
        {
          "output_type": "stream",
          "name": "stdout",
          "text": [
            "5\n",
            "4\n"
          ]
        }
      ]
    },
    {
      "cell_type": "code",
      "source": [
        "# que 14)  Write a code to find the index of the element \"cat\" in the tuple ('dog', 'cat', 'rabbit')\n",
        "tuple=('dog','cat','rabbit')\n",
        "print(tuple.index('cat'))\n"
      ],
      "metadata": {
        "colab": {
          "base_uri": "https://localhost:8080/"
        },
        "id": "Sx-WZd0_p5z6",
        "outputId": "c3f7c377-3c73-4ffb-b9d0-a31c0bed02ae"
      },
      "execution_count": null,
      "outputs": [
        {
          "output_type": "stream",
          "name": "stdout",
          "text": [
            "1\n"
          ]
        }
      ]
    },
    {
      "cell_type": "code",
      "source": [
        "# que 15)  Write a code to create a tuple containing three different fruits and check if \"kiwi\" is in it.\n",
        "\n",
        "tuple_list=('orange ','apple','banana')\n",
        "print('kiwi'in tuple_list)\n",
        "print('banana' in tuple_list)"
      ],
      "metadata": {
        "colab": {
          "base_uri": "https://localhost:8080/"
        },
        "id": "3B91Gq09rndX",
        "outputId": "e991c3b2-bf35-4c5a-f5ad-eacf8dce7b41"
      },
      "execution_count": null,
      "outputs": [
        {
          "output_type": "stream",
          "name": "stdout",
          "text": [
            "False\n",
            "True\n"
          ]
        }
      ]
    },
    {
      "cell_type": "code",
      "source": [
        "# que 16) . Write a code to create a set with the elements 'a', 'b', 'c' and print it\n",
        "\n",
        "my_set={'a','b','c'}\n",
        "print(my_set)\n",
        "\n",
        "set1={'a','b','c'}\n",
        "print(set1)"
      ],
      "metadata": {
        "colab": {
          "base_uri": "https://localhost:8080/"
        },
        "id": "Wi8PD_S1tkpb",
        "outputId": "b19354fe-7792-4849-b751-0da01e68d411"
      },
      "execution_count": null,
      "outputs": [
        {
          "output_type": "stream",
          "name": "stdout",
          "text": [
            "{'b', 'c', 'a'}\n",
            "{'b', 'c', 'a'}\n"
          ]
        }
      ]
    },
    {
      "cell_type": "code",
      "source": [
        "# que 17)  Write a code to clear all elements from the set {1, 2, 3, 4, 5}.\n",
        "set={1, 2, 3, 4, 5}\n",
        "set.clear()\n",
        "print(set)"
      ],
      "metadata": {
        "colab": {
          "base_uri": "https://localhost:8080/"
        },
        "id": "OcKBH7BDv6gG",
        "outputId": "b9e8c925-5470-48ca-8a1d-09812915c4cf"
      },
      "execution_count": null,
      "outputs": [
        {
          "output_type": "stream",
          "name": "stdout",
          "text": [
            "set()\n"
          ]
        }
      ]
    },
    {
      "cell_type": "code",
      "source": [
        "# que 18) Write a code to remove the element 4 from the set {1, 2, 3, 4}.\n",
        "set1={1, 2, 3, 4}\n",
        "set1.remove(4)\n",
        "print(set1)"
      ],
      "metadata": {
        "colab": {
          "base_uri": "https://localhost:8080/"
        },
        "id": "3UfZ1Gkxxh7r",
        "outputId": "677d68d1-c678-44d8-a1ba-4de75f27c7da"
      },
      "execution_count": null,
      "outputs": [
        {
          "output_type": "stream",
          "name": "stdout",
          "text": [
            "{1, 2, 3}\n"
          ]
        }
      ]
    },
    {
      "cell_type": "code",
      "source": [
        "# Que 19  Write a code to find the union of two sets {1, 2, 3} and {3, 4, 5}.\n",
        "set_one={1,2,3}\n",
        "set_two={3,4,5}\n",
        "print(set_one.union(set_two))\n",
        "print(set_two.union(set_one))"
      ],
      "metadata": {
        "colab": {
          "base_uri": "https://localhost:8080/"
        },
        "id": "jVregRWiyzNP",
        "outputId": "e33c49c3-edef-4204-c1ee-f407d8ad295f"
      },
      "execution_count": null,
      "outputs": [
        {
          "output_type": "stream",
          "name": "stdout",
          "text": [
            "{1, 2, 3, 4, 5}\n",
            "{1, 2, 3, 4, 5}\n"
          ]
        }
      ]
    },
    {
      "cell_type": "code",
      "source": [
        "# Que 20) Write a code to find the intersection of two sets {1, 2, 3} and {2, 3, 4}.\n",
        "set1={1,2,3}\n",
        "set2={3,4,5}\n",
        "print(set1.intersection(set2))"
      ],
      "metadata": {
        "colab": {
          "base_uri": "https://localhost:8080/"
        },
        "id": "YXM3GW873ecO",
        "outputId": "2c1fa392-5b44-43ff-e05a-45869b0b414f"
      },
      "execution_count": null,
      "outputs": [
        {
          "output_type": "stream",
          "name": "stdout",
          "text": [
            "{3}\n"
          ]
        }
      ]
    },
    {
      "cell_type": "code",
      "source": [
        "# que 21) Write a code to create a dictionary with the keys \"name\", \"age\", and \"city\", and print it.\n",
        "\n",
        "my_dict={\"name\":\"Ganesh\",\"age\":27,\"city\":\"pune\"}\n",
        "print(my_dict)\n",
        "print(type(my_dict))\n"
      ],
      "metadata": {
        "colab": {
          "base_uri": "https://localhost:8080/"
        },
        "id": "rpZHZ90H5O3p",
        "outputId": "1f7638f5-7965-4dcc-8779-3b0f88cca19a"
      },
      "execution_count": null,
      "outputs": [
        {
          "output_type": "stream",
          "name": "stdout",
          "text": [
            "{'name': 'Ganesh', 'age': 27, 'city': 'pune'}\n",
            "<class 'dict'>\n"
          ]
        }
      ]
    },
    {
      "cell_type": "code",
      "source": [
        "# que 22)  Write a code to add a new key-value pair \"country\": \"USA\" to the dictionary {'name': 'John', 'age': 25}.\n",
        "my_dict1={'name':'John','age':25}\n",
        "my_dict1[\"country\"]='USA'\n",
        "print(my_dict1)"
      ],
      "metadata": {
        "colab": {
          "base_uri": "https://localhost:8080/"
        },
        "id": "tCDzzzERE_nF",
        "outputId": "dab82c7b-39b2-479d-9af4-f50561bf6fcd"
      },
      "execution_count": null,
      "outputs": [
        {
          "output_type": "stream",
          "name": "stdout",
          "text": [
            "{'name': 'John', 'age': 25, 'country': 'USA'}\n"
          ]
        }
      ]
    },
    {
      "cell_type": "code",
      "source": [
        "# que 23) Write a code to access the value associated with the key \"name\" in the dictionary {'name': 'Alice', 'age': 30}.\n",
        "my_dict= {'name': 'Alice', 'age': 30}\n",
        "print(my_dict['name'])\n",
        "\n",
        "\n"
      ],
      "metadata": {
        "colab": {
          "base_uri": "https://localhost:8080/"
        },
        "id": "aamtLTxSHTRs",
        "outputId": "247be3cc-0eb9-4cf0-c2ac-c3066ad092ff"
      },
      "execution_count": null,
      "outputs": [
        {
          "output_type": "stream",
          "name": "stdout",
          "text": [
            "Alice\n"
          ]
        }
      ]
    },
    {
      "cell_type": "code",
      "source": [
        "# que 24) Write a code to remove the key \"age\" from the dictionary {'name': 'Bob', 'age': 22, 'city': 'New York'}\n",
        "my_dict={'name': 'Bob', 'age': 22, 'city': 'New York'}\n",
        "my_dict.pop('age')\n",
        "print(my_dict)\n"
      ],
      "metadata": {
        "colab": {
          "base_uri": "https://localhost:8080/"
        },
        "id": "DIFTUS1xIKG2",
        "outputId": "a45ad9a4-1cb1-426e-84c5-3b52408b8851"
      },
      "execution_count": null,
      "outputs": [
        {
          "output_type": "stream",
          "name": "stdout",
          "text": [
            "{'name': 'Bob', 'city': 'New York'}\n"
          ]
        }
      ]
    },
    {
      "cell_type": "code",
      "source": [
        "# que 25) Write a code to check if the key \"city\" exists in the dictionary {'name': 'Alice', 'city': 'Paris'}\n",
        "\n",
        "dict1={'name':'alice','city':'New york'}\n",
        "print('city'in dict1)\n",
        "\n"
      ],
      "metadata": {
        "colab": {
          "base_uri": "https://localhost:8080/"
        },
        "id": "YkjfkxUKLSPH",
        "outputId": "f4cdcb84-a3be-4521-e8f0-05c4419e8465"
      },
      "execution_count": null,
      "outputs": [
        {
          "output_type": "stream",
          "name": "stdout",
          "text": [
            "True\n",
            "False\n"
          ]
        }
      ]
    },
    {
      "cell_type": "code",
      "source": [
        "# que 26) Write a code to create a list, a tuple, and a dictionary, and print them all.\n",
        "my_list=[1,2,3,4,5]\n",
        "my_tuple=(1,2,3,4,5)\n",
        "my_dict={'name':'ganesh','age':27,'city':'pune'}\n",
        "print(my_list)\n",
        "print(my_tuple)\n",
        "print(my_dict)\n",
        "print((my_list,my_tuple,my_dict))\n"
      ],
      "metadata": {
        "colab": {
          "base_uri": "https://localhost:8080/"
        },
        "id": "lhkmfxZKMyj6",
        "outputId": "5d7e1760-0af3-466b-8e79-a3738c8f2850"
      },
      "execution_count": null,
      "outputs": [
        {
          "output_type": "stream",
          "name": "stdout",
          "text": [
            "[1, 2, 3, 4, 5]\n",
            "(1, 2, 3, 4, 5)\n",
            "{'name': 'ganesh', 'age': 27, 'city': 'pune'}\n",
            "([1, 2, 3, 4, 5], (1, 2, 3, 4, 5), {'name': 'ganesh', 'age': 27, 'city': 'pune'})\n"
          ]
        }
      ]
    },
    {
      "cell_type": "code",
      "source": [
        "# que 27 Write a code to create a list of 5 random numbers between 1 and 100, sort it in ascending order, and print the resul (replaced)\n",
        "\n",
        "list1=[52,80,20,45,30]\n",
        "list1.sort()\n",
        "print(list1)\n"
      ],
      "metadata": {
        "colab": {
          "base_uri": "https://localhost:8080/"
        },
        "id": "BHSKSAOTObL_",
        "outputId": "eb91f664-1ce8-4e06-c4bc-1561615fe5f4"
      },
      "execution_count": null,
      "outputs": [
        {
          "output_type": "stream",
          "name": "stdout",
          "text": [
            "[20, 30, 45, 52, 80]\n"
          ]
        }
      ]
    },
    {
      "cell_type": "code",
      "source": [
        "# que 28) Write a code to create a list with strings and print the element at the third index.\n",
        "\n",
        "fruits=['apple','banana','orange','kiwi','mango']\n",
        "print(fruits[3])"
      ],
      "metadata": {
        "colab": {
          "base_uri": "https://localhost:8080/"
        },
        "id": "CTPnaxXQQyJb",
        "outputId": "e01e1de8-3ad9-4473-a5b8-8238ef45146c"
      },
      "execution_count": null,
      "outputs": [
        {
          "output_type": "stream",
          "name": "stdout",
          "text": [
            "kiwi\n"
          ]
        }
      ]
    },
    {
      "cell_type": "code",
      "source": [
        "# que 29) Write a code to combine two dictionaries into one and print the result\n",
        "set1={'name':'Ganesh','age':27,'city':'pune'}\n",
        "set2={'country':'India','state':'Maharashtra','age':24}\n",
        "combine_dict = set1.copy() # Create a copy to avoid modifying the original dictionary\n",
        "combine_dict.update(set2)\n",
        "print(combine_dict)\n",
        "\n",
        "print(type(set1))"
      ],
      "metadata": {
        "colab": {
          "base_uri": "https://localhost:8080/"
        },
        "id": "I-3hUhimRkg9",
        "outputId": "817d94f4-f16a-40d0-a95e-a247cb185fb3"
      },
      "execution_count": null,
      "outputs": [
        {
          "output_type": "stream",
          "name": "stdout",
          "text": [
            "{'name': 'Ganesh', 'age': 24, 'city': 'pune', 'country': 'India', 'state': 'Maharashtra'}\n",
            "<class 'dict'>\n"
          ]
        }
      ]
    },
    {
      "cell_type": "code",
      "source": [
        "# que 30)  Write a code to convert a list of strings into a set.\n",
        "\n",
        "my_list=['banana','apple','fan','tv','mobile']\n",
        "fruite_list = set(my_list)\n",
        "print(fruite_list)"
      ],
      "metadata": {
        "colab": {
          "base_uri": "https://localhost:8080/"
        },
        "id": "6H6Bl5mXUes8",
        "outputId": "581eac8d-ba0e-42c1-c5e1-b9be152863da"
      },
      "execution_count": null,
      "outputs": [
        {
          "output_type": "stream",
          "name": "stdout",
          "text": [
            "{'tv', 'mobile', 'apple', 'banana', 'fan'}\n"
          ]
        }
      ]
    }
  ]
}